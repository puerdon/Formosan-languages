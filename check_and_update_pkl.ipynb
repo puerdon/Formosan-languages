{
 "cells": [
  {
   "cell_type": "code",
   "execution_count": 57,
   "id": "48d025f2",
   "metadata": {
    "scrolled": true
   },
   "outputs": [],
   "source": [
    "import pandas as pd\n",
    "import re\n",
    "import pathlib"
   ]
  },
  {
   "cell_type": "code",
   "execution_count": 48,
   "id": "78c9a5fb",
   "metadata": {},
   "outputs": [],
   "source": [
    "def get_data():\n",
    "  df = pd.read_pickle('Formosan-Mandarin_sent_pairs_139023entries.pkl')\n",
    "  df_2 = df.astype(str, errors='ignore')\n",
    "  df_2 = df_2.applymap(lambda x: x[1:] if x.startswith(\".\") else x)\n",
    "  df_2 = df_2.applymap(lambda x: x.strip())\n",
    "  filt = df_2.Ch.apply(len) < 5\n",
    "  df_2 = df_2[~filt]\n",
    "  return df, df_2"
   ]
  },
  {
   "cell_type": "code",
   "execution_count": 49,
   "id": "7042a8d0",
   "metadata": {},
   "outputs": [],
   "source": [
    "data, data_2 = get_data()"
   ]
  },
  {
   "cell_type": "code",
   "execution_count": 50,
   "id": "653053da",
   "metadata": {},
   "outputs": [
    {
     "data": {
      "text/plain": [
       "['泰雅_賽考利克', '泰雅_澤敖利', '泰雅_汶水', '泰雅_萬大', '泰雅_四季', '泰雅_宜蘭澤敖利']\n",
       "Categories (43, object): ['卑南_初鹿', '卑南_南王', '卑南_建和', '卑南_知本', ..., '魯凱_東', '魯凱_茂林', '魯凱_萬山', '魯凱_霧台']"
      ]
     },
     "execution_count": 50,
     "metadata": {},
     "output_type": "execute_result"
    }
   ],
   "source": [
    "x = data[data['Lang_Ch'].str.contains(\"泰雅\")]\n",
    "x['Lang_Ch'].unique()"
   ]
  },
  {
   "cell_type": "code",
   "execution_count": 51,
   "id": "4307962e",
   "metadata": {},
   "outputs": [
    {
     "data": {
      "text/plain": [
       "(136385, 5)"
      ]
     },
     "execution_count": 51,
     "metadata": {},
     "output_type": "execute_result"
    }
   ],
   "source": [
    "data_2.shape"
   ]
  },
  {
   "cell_type": "code",
   "execution_count": 60,
   "id": "c6b6b92a",
   "metadata": {},
   "outputs": [],
   "source": [
    "r = data_2.copy()\n",
    "\n",
    "def read_a_csv_and_drop_na(path):\n",
    "    df = pd.read_csv(path, encoding=\"big5\").dropna(how='all').dropna(axis=1, how='all')\n",
    "    df['Lang_En'] = 'Atayal'\n",
    "    df['Lang_Ch'] = '泰雅_賽考利克'\n",
    "    df['From'] = \"傳說故事精選篇\"\n",
    "    df = df.rename(columns={\"Atayal\": \"Ab\", \"Mandarin\": \"Ch\"})\n",
    "    \n",
    "    return df\n",
    "\n",
    "for x in pathlib.Path(\"../atayal_data/\").glob(\"*.csv\"):\n",
    "    c = read_a_csv_and_drop_na(x)\n",
    "    r = pd.concat([r, c], ignore_index=True)"
   ]
  },
  {
   "cell_type": "code",
   "execution_count": 55,
   "id": "66672479",
   "metadata": {},
   "outputs": [
    {
     "data": {
      "text/plain": [
       "(36, 5)"
      ]
     },
     "execution_count": 55,
     "metadata": {},
     "output_type": "execute_result"
    }
   ],
   "source": [
    "c01 = read_a_csv_and_drop_na('../atayal_data/01.csv')\n",
    "c01.shape"
   ]
  },
  {
   "cell_type": "code",
   "execution_count": 64,
   "id": "91721d5a",
   "metadata": {},
   "outputs": [],
   "source": [
    "r.to_pickle('./Formosan-Mandarin_sent_pairs_20220106.pkl', compression=\"gzip\")"
   ]
  }
 ],
 "metadata": {
  "kernelspec": {
   "display_name": "Python 3 (ipykernel)",
   "language": "python",
   "name": "python3"
  },
  "language_info": {
   "codemirror_mode": {
    "name": "ipython",
    "version": 3
   },
   "file_extension": ".py",
   "mimetype": "text/x-python",
   "name": "python",
   "nbconvert_exporter": "python",
   "pygments_lexer": "ipython3",
   "version": "3.9.7"
  }
 },
 "nbformat": 4,
 "nbformat_minor": 5
}
