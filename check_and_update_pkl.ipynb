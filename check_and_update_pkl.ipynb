{
 "cells": [
  {
   "cell_type": "code",
   "execution_count": 57,
   "id": "807227df",
   "metadata": {
    "scrolled": true
   },
   "outputs": [],
   "source": [
    "import pandas as pd\n",
    "import re\n",
    "import pathlib"
   ]
  },
  {
   "cell_type": "code",
   "execution_count": 48,
   "id": "18c4834f",
   "metadata": {},
   "outputs": [],
   "source": [
    "def get_data():\n",
    "  df = pd.read_pickle('Formosan-Mandarin_sent_pairs_139023entries.pkl')\n",
    "  df_2 = df.astype(str, errors='ignore')\n",
    "  df_2 = df_2.applymap(lambda x: x[1:] if x.startswith(\".\") else x)\n",
    "  df_2 = df_2.applymap(lambda x: x.strip())\n",
    "  filt = df_2.Ch.apply(len) < 5\n",
    "  df_2 = df_2[~filt]\n",
    "  return df, df_2"
   ]
  },
  {
   "cell_type": "code",
   "execution_count": 49,
   "id": "3e6f086d",
   "metadata": {},
   "outputs": [],
   "source": [
    "data, data_2 = get_data()"
   ]
  },
  {
   "cell_type": "code",
   "execution_count": 50,
   "id": "870e2d3a",
   "metadata": {},
   "outputs": [
    {
     "data": {
      "text/plain": [
       "['泰雅_賽考利克', '泰雅_澤敖利', '泰雅_汶水', '泰雅_萬大', '泰雅_四季', '泰雅_宜蘭澤敖利']\n",
       "Categories (43, object): ['卑南_初鹿', '卑南_南王', '卑南_建和', '卑南_知本', ..., '魯凱_東', '魯凱_茂林', '魯凱_萬山', '魯凱_霧台']"
      ]
     },
     "execution_count": 50,
     "metadata": {},
     "output_type": "execute_result"
    }
   ],
   "source": [
    "x = data[data['Lang_Ch'].str.contains(\"泰雅\")]\n",
    "x['Lang_Ch'].unique()"
   ]
  },
  {
   "cell_type": "code",
   "execution_count": 51,
   "id": "8efea49d",
   "metadata": {},
   "outputs": [
    {
     "data": {
      "text/plain": [
       "(136385, 5)"
      ]
     },
     "execution_count": 51,
     "metadata": {},
     "output_type": "execute_result"
    }
   ],
   "source": [
    "data_2.shape"
   ]
  },
  {
   "cell_type": "code",
   "execution_count": 80,
   "id": "e06a39a7",
   "metadata": {},
   "outputs": [],
   "source": [
    "r = data_2.copy()\n",
    "\n",
    "def read_a_csv_and_drop_na(path):\n",
    "    df = pd.read_csv(path, encoding=\"big5\").dropna(how='all').dropna(axis=1, how='all')\n",
    "    df['Lang_En'] = 'Atayal'\n",
    "    df['Lang_Ch'] = '泰雅_賽考利克'\n",
    "    df['From'] = \"傳說故事精選篇\"\n",
    "    df = df.rename(columns={\"Atayal\": \"Ab\", \"Mandarin\": \"Ch\"})\n",
    "    \n",
    "    return df\n",
    "\n",
    "for x in pathlib.Path(\"../atayal_data/\").glob(\"*.csv\"):\n",
    "    c = read_a_csv_and_drop_na(x)\n",
    "    r = pd.concat([r, c], ignore_index=True)\n",
    "    \n"
   ]
  },
  {
   "cell_type": "code",
   "execution_count": 84,
   "id": "3e3d4211",
   "metadata": {},
   "outputs": [
    {
     "ename": "KeyError",
     "evalue": "\"['Unnamed: 2'] not found in axis\"",
     "output_type": "error",
     "traceback": [
      "\u001b[1;31m---------------------------------------------------------------------------\u001b[0m",
      "\u001b[1;31mKeyError\u001b[0m                                  Traceback (most recent call last)",
      "\u001b[1;32m~\\AppData\\Local\\Temp/ipykernel_11220/2364820099.py\u001b[0m in \u001b[0;36m<module>\u001b[1;34m\u001b[0m\n\u001b[0;32m      1\u001b[0m \u001b[0mr\u001b[0m\u001b[1;33m.\u001b[0m\u001b[0mcolumns\u001b[0m\u001b[1;33m\u001b[0m\u001b[1;33m\u001b[0m\u001b[0m\n\u001b[1;32m----> 2\u001b[1;33m \u001b[0mr\u001b[0m\u001b[1;33m.\u001b[0m\u001b[0mdrop\u001b[0m\u001b[1;33m(\u001b[0m\u001b[1;34m'Unnamed: 2'\u001b[0m\u001b[1;33m,\u001b[0m \u001b[0minplace\u001b[0m\u001b[1;33m=\u001b[0m\u001b[1;32mTrue\u001b[0m\u001b[1;33m,\u001b[0m\u001b[0maxis\u001b[0m\u001b[1;33m=\u001b[0m\u001b[1;36m1\u001b[0m\u001b[1;33m)\u001b[0m\u001b[1;33m\u001b[0m\u001b[1;33m\u001b[0m\u001b[0m\n\u001b[0m",
      "\u001b[1;32m~\\anaconda3\\lib\\site-packages\\pandas\\util\\_decorators.py\u001b[0m in \u001b[0;36mwrapper\u001b[1;34m(*args, **kwargs)\u001b[0m\n\u001b[0;32m    309\u001b[0m                     \u001b[0mstacklevel\u001b[0m\u001b[1;33m=\u001b[0m\u001b[0mstacklevel\u001b[0m\u001b[1;33m,\u001b[0m\u001b[1;33m\u001b[0m\u001b[1;33m\u001b[0m\u001b[0m\n\u001b[0;32m    310\u001b[0m                 )\n\u001b[1;32m--> 311\u001b[1;33m             \u001b[1;32mreturn\u001b[0m \u001b[0mfunc\u001b[0m\u001b[1;33m(\u001b[0m\u001b[1;33m*\u001b[0m\u001b[0margs\u001b[0m\u001b[1;33m,\u001b[0m \u001b[1;33m**\u001b[0m\u001b[0mkwargs\u001b[0m\u001b[1;33m)\u001b[0m\u001b[1;33m\u001b[0m\u001b[1;33m\u001b[0m\u001b[0m\n\u001b[0m\u001b[0;32m    312\u001b[0m \u001b[1;33m\u001b[0m\u001b[0m\n\u001b[0;32m    313\u001b[0m         \u001b[1;32mreturn\u001b[0m \u001b[0mwrapper\u001b[0m\u001b[1;33m\u001b[0m\u001b[1;33m\u001b[0m\u001b[0m\n",
      "\u001b[1;32m~\\anaconda3\\lib\\site-packages\\pandas\\core\\frame.py\u001b[0m in \u001b[0;36mdrop\u001b[1;34m(self, labels, axis, index, columns, level, inplace, errors)\u001b[0m\n\u001b[0;32m   4904\u001b[0m                 \u001b[0mweight\u001b[0m  \u001b[1;36m1.0\u001b[0m     \u001b[1;36m0.8\u001b[0m\u001b[1;33m\u001b[0m\u001b[1;33m\u001b[0m\u001b[0m\n\u001b[0;32m   4905\u001b[0m         \"\"\"\n\u001b[1;32m-> 4906\u001b[1;33m         return super().drop(\n\u001b[0m\u001b[0;32m   4907\u001b[0m             \u001b[0mlabels\u001b[0m\u001b[1;33m=\u001b[0m\u001b[0mlabels\u001b[0m\u001b[1;33m,\u001b[0m\u001b[1;33m\u001b[0m\u001b[1;33m\u001b[0m\u001b[0m\n\u001b[0;32m   4908\u001b[0m             \u001b[0maxis\u001b[0m\u001b[1;33m=\u001b[0m\u001b[0maxis\u001b[0m\u001b[1;33m,\u001b[0m\u001b[1;33m\u001b[0m\u001b[1;33m\u001b[0m\u001b[0m\n",
      "\u001b[1;32m~\\anaconda3\\lib\\site-packages\\pandas\\core\\generic.py\u001b[0m in \u001b[0;36mdrop\u001b[1;34m(self, labels, axis, index, columns, level, inplace, errors)\u001b[0m\n\u001b[0;32m   4148\u001b[0m         \u001b[1;32mfor\u001b[0m \u001b[0maxis\u001b[0m\u001b[1;33m,\u001b[0m \u001b[0mlabels\u001b[0m \u001b[1;32min\u001b[0m \u001b[0maxes\u001b[0m\u001b[1;33m.\u001b[0m\u001b[0mitems\u001b[0m\u001b[1;33m(\u001b[0m\u001b[1;33m)\u001b[0m\u001b[1;33m:\u001b[0m\u001b[1;33m\u001b[0m\u001b[1;33m\u001b[0m\u001b[0m\n\u001b[0;32m   4149\u001b[0m             \u001b[1;32mif\u001b[0m \u001b[0mlabels\u001b[0m \u001b[1;32mis\u001b[0m \u001b[1;32mnot\u001b[0m \u001b[1;32mNone\u001b[0m\u001b[1;33m:\u001b[0m\u001b[1;33m\u001b[0m\u001b[1;33m\u001b[0m\u001b[0m\n\u001b[1;32m-> 4150\u001b[1;33m                 \u001b[0mobj\u001b[0m \u001b[1;33m=\u001b[0m \u001b[0mobj\u001b[0m\u001b[1;33m.\u001b[0m\u001b[0m_drop_axis\u001b[0m\u001b[1;33m(\u001b[0m\u001b[0mlabels\u001b[0m\u001b[1;33m,\u001b[0m \u001b[0maxis\u001b[0m\u001b[1;33m,\u001b[0m \u001b[0mlevel\u001b[0m\u001b[1;33m=\u001b[0m\u001b[0mlevel\u001b[0m\u001b[1;33m,\u001b[0m \u001b[0merrors\u001b[0m\u001b[1;33m=\u001b[0m\u001b[0merrors\u001b[0m\u001b[1;33m)\u001b[0m\u001b[1;33m\u001b[0m\u001b[1;33m\u001b[0m\u001b[0m\n\u001b[0m\u001b[0;32m   4151\u001b[0m \u001b[1;33m\u001b[0m\u001b[0m\n\u001b[0;32m   4152\u001b[0m         \u001b[1;32mif\u001b[0m \u001b[0minplace\u001b[0m\u001b[1;33m:\u001b[0m\u001b[1;33m\u001b[0m\u001b[1;33m\u001b[0m\u001b[0m\n",
      "\u001b[1;32m~\\anaconda3\\lib\\site-packages\\pandas\\core\\generic.py\u001b[0m in \u001b[0;36m_drop_axis\u001b[1;34m(self, labels, axis, level, errors)\u001b[0m\n\u001b[0;32m   4183\u001b[0m                 \u001b[0mnew_axis\u001b[0m \u001b[1;33m=\u001b[0m \u001b[0maxis\u001b[0m\u001b[1;33m.\u001b[0m\u001b[0mdrop\u001b[0m\u001b[1;33m(\u001b[0m\u001b[0mlabels\u001b[0m\u001b[1;33m,\u001b[0m \u001b[0mlevel\u001b[0m\u001b[1;33m=\u001b[0m\u001b[0mlevel\u001b[0m\u001b[1;33m,\u001b[0m \u001b[0merrors\u001b[0m\u001b[1;33m=\u001b[0m\u001b[0merrors\u001b[0m\u001b[1;33m)\u001b[0m\u001b[1;33m\u001b[0m\u001b[1;33m\u001b[0m\u001b[0m\n\u001b[0;32m   4184\u001b[0m             \u001b[1;32melse\u001b[0m\u001b[1;33m:\u001b[0m\u001b[1;33m\u001b[0m\u001b[1;33m\u001b[0m\u001b[0m\n\u001b[1;32m-> 4185\u001b[1;33m                 \u001b[0mnew_axis\u001b[0m \u001b[1;33m=\u001b[0m \u001b[0maxis\u001b[0m\u001b[1;33m.\u001b[0m\u001b[0mdrop\u001b[0m\u001b[1;33m(\u001b[0m\u001b[0mlabels\u001b[0m\u001b[1;33m,\u001b[0m \u001b[0merrors\u001b[0m\u001b[1;33m=\u001b[0m\u001b[0merrors\u001b[0m\u001b[1;33m)\u001b[0m\u001b[1;33m\u001b[0m\u001b[1;33m\u001b[0m\u001b[0m\n\u001b[0m\u001b[0;32m   4186\u001b[0m             \u001b[0mresult\u001b[0m \u001b[1;33m=\u001b[0m \u001b[0mself\u001b[0m\u001b[1;33m.\u001b[0m\u001b[0mreindex\u001b[0m\u001b[1;33m(\u001b[0m\u001b[1;33m**\u001b[0m\u001b[1;33m{\u001b[0m\u001b[0maxis_name\u001b[0m\u001b[1;33m:\u001b[0m \u001b[0mnew_axis\u001b[0m\u001b[1;33m}\u001b[0m\u001b[1;33m)\u001b[0m\u001b[1;33m\u001b[0m\u001b[1;33m\u001b[0m\u001b[0m\n\u001b[0;32m   4187\u001b[0m \u001b[1;33m\u001b[0m\u001b[0m\n",
      "\u001b[1;32m~\\anaconda3\\lib\\site-packages\\pandas\\core\\indexes\\base.py\u001b[0m in \u001b[0;36mdrop\u001b[1;34m(self, labels, errors)\u001b[0m\n\u001b[0;32m   6015\u001b[0m         \u001b[1;32mif\u001b[0m \u001b[0mmask\u001b[0m\u001b[1;33m.\u001b[0m\u001b[0many\u001b[0m\u001b[1;33m(\u001b[0m\u001b[1;33m)\u001b[0m\u001b[1;33m:\u001b[0m\u001b[1;33m\u001b[0m\u001b[1;33m\u001b[0m\u001b[0m\n\u001b[0;32m   6016\u001b[0m             \u001b[1;32mif\u001b[0m \u001b[0merrors\u001b[0m \u001b[1;33m!=\u001b[0m \u001b[1;34m\"ignore\"\u001b[0m\u001b[1;33m:\u001b[0m\u001b[1;33m\u001b[0m\u001b[1;33m\u001b[0m\u001b[0m\n\u001b[1;32m-> 6017\u001b[1;33m                 \u001b[1;32mraise\u001b[0m \u001b[0mKeyError\u001b[0m\u001b[1;33m(\u001b[0m\u001b[1;34mf\"{labels[mask]} not found in axis\"\u001b[0m\u001b[1;33m)\u001b[0m\u001b[1;33m\u001b[0m\u001b[1;33m\u001b[0m\u001b[0m\n\u001b[0m\u001b[0;32m   6018\u001b[0m             \u001b[0mindexer\u001b[0m \u001b[1;33m=\u001b[0m \u001b[0mindexer\u001b[0m\u001b[1;33m[\u001b[0m\u001b[1;33m~\u001b[0m\u001b[0mmask\u001b[0m\u001b[1;33m]\u001b[0m\u001b[1;33m\u001b[0m\u001b[1;33m\u001b[0m\u001b[0m\n\u001b[0;32m   6019\u001b[0m         \u001b[1;32mreturn\u001b[0m \u001b[0mself\u001b[0m\u001b[1;33m.\u001b[0m\u001b[0mdelete\u001b[0m\u001b[1;33m(\u001b[0m\u001b[0mindexer\u001b[0m\u001b[1;33m)\u001b[0m\u001b[1;33m\u001b[0m\u001b[1;33m\u001b[0m\u001b[0m\n",
      "\u001b[1;31mKeyError\u001b[0m: \"['Unnamed: 2'] not found in axis\""
     ]
    }
   ],
   "source": [
    "r.columns\n",
    "r.drop('Unnamed: 2', inplace=True,axis=1)"
   ]
  },
  {
   "cell_type": "code",
   "execution_count": 85,
   "id": "33226926",
   "metadata": {},
   "outputs": [],
   "source": [
    "r.to_pickle('./Formosan-Mandarin_sent_pairs_20220106.pkl', compression=\"gzip\")"
   ]
  },
  {
   "cell_type": "code",
   "execution_count": 86,
   "id": "1cef6e3f",
   "metadata": {},
   "outputs": [
    {
     "data": {
      "text/html": [
       "<div>\n",
       "<style scoped>\n",
       "    .dataframe tbody tr th:only-of-type {\n",
       "        vertical-align: middle;\n",
       "    }\n",
       "\n",
       "    .dataframe tbody tr th {\n",
       "        vertical-align: top;\n",
       "    }\n",
       "\n",
       "    .dataframe thead th {\n",
       "        text-align: right;\n",
       "    }\n",
       "</style>\n",
       "<table border=\"1\" class=\"dataframe\">\n",
       "  <thead>\n",
       "    <tr style=\"text-align: right;\">\n",
       "      <th></th>\n",
       "      <th>Lang_En</th>\n",
       "      <th>Lang_Ch</th>\n",
       "      <th>Ab</th>\n",
       "      <th>Ch</th>\n",
       "      <th>From</th>\n",
       "    </tr>\n",
       "  </thead>\n",
       "  <tbody>\n",
       "    <tr>\n",
       "      <th>0</th>\n",
       "      <td>Sakizaya</td>\n",
       "      <td>撒奇萊雅</td>\n",
       "      <td>malalikid ku niyazu' i waluay a bulad.</td>\n",
       "      <td>八月份是部落的豐年祭。</td>\n",
       "      <td>詞典</td>\n",
       "    </tr>\n",
       "    <tr>\n",
       "      <th>1</th>\n",
       "      <td>Sakizaya</td>\n",
       "      <td>撒奇萊雅</td>\n",
       "      <td>kaudadan a demiad milalupela' kita.</td>\n",
       "      <td>下雨天我們一起去撿天使的眼淚。</td>\n",
       "      <td>詞典</td>\n",
       "    </tr>\n",
       "    <tr>\n",
       "      <th>2</th>\n",
       "      <td>Sakizaya</td>\n",
       "      <td>撒奇萊雅</td>\n",
       "      <td>i buyubuyu'an ku aadupen a mauzip.</td>\n",
       "      <td>動物生存在山裡。</td>\n",
       "      <td>詞典</td>\n",
       "    </tr>\n",
       "    <tr>\n",
       "      <th>3</th>\n",
       "      <td>Sakizaya</td>\n",
       "      <td>撒奇萊雅</td>\n",
       "      <td>u aam ku sakalanam tu sananal.</td>\n",
       "      <td>早餐吃的是稀飯。</td>\n",
       "      <td>詞典</td>\n",
       "    </tr>\n",
       "    <tr>\n",
       "      <th>4</th>\n",
       "      <td>Sakizaya</td>\n",
       "      <td>撒奇萊雅</td>\n",
       "      <td>aamen nu miaamay ku tubah ni Bunga!</td>\n",
       "      <td>乞丐去向Bunga乞討地瓜！</td>\n",
       "      <td>詞典</td>\n",
       "    </tr>\n",
       "    <tr>\n",
       "      <th>...</th>\n",
       "      <td>...</td>\n",
       "      <td>...</td>\n",
       "      <td>...</td>\n",
       "      <td>...</td>\n",
       "      <td>...</td>\n",
       "    </tr>\n",
       "    <tr>\n",
       "      <th>137190</th>\n",
       "      <td>Atayal</td>\n",
       "      <td>泰雅_賽考利克</td>\n",
       "      <td>tuliq kmal qu yaba’ nya’ mha: “Temu’! nyux mak...</td>\n",
       "      <td>他的父親哀痛對膽小的兒子說：「帖姆！我這樣把自己的軀體給了你，</td>\n",
       "      <td>傳說故事精選篇</td>\n",
       "    </tr>\n",
       "    <tr>\n",
       "      <th>137191</th>\n",
       "      <td>Atayal</td>\n",
       "      <td>泰雅_賽考利克</td>\n",
       "      <td>pyang maku’ mha qaniy gi klpngan su’ iyal,</td>\n",
       "      <td>我是故意這樣做的，</td>\n",
       "      <td>傳說故事精選篇</td>\n",
       "    </tr>\n",
       "    <tr>\n",
       "      <th>137192</th>\n",
       "      <td>Atayal</td>\n",
       "      <td>泰雅_賽考利克</td>\n",
       "      <td>teta’ ini’ kngungu’ qu laqi’ ta’ mha saku’.”</td>\n",
       "      <td>目的是希望你不要太膽小了，從此成為人中的男人」。</td>\n",
       "      <td>傳說故事精選篇</td>\n",
       "    </tr>\n",
       "    <tr>\n",
       "      <th>137193</th>\n",
       "      <td>Atayal</td>\n",
       "      <td>泰雅_賽考利克</td>\n",
       "      <td>ke’ kasa lga, mskyut qu yaba’ nya’ la.</td>\n",
       "      <td>沒多久父親就與世長辭了。</td>\n",
       "      <td>傳說故事精選篇</td>\n",
       "    </tr>\n",
       "    <tr>\n",
       "      <th>137194</th>\n",
       "      <td>Atayal</td>\n",
       "      <td>泰雅_賽考利克</td>\n",
       "      <td>aring squ wal nya’ btaqan qu yaba’ nya’ lmga, ...</td>\n",
       "      <td>自從膽小的帖姆誤殺了自己的父親以後，據說帖姆枇萊變為勇敢膽大的人了。</td>\n",
       "      <td>傳說故事精選篇</td>\n",
       "    </tr>\n",
       "  </tbody>\n",
       "</table>\n",
       "<p>137195 rows × 5 columns</p>\n",
       "</div>"
      ],
      "text/plain": [
       "         Lang_En  Lang_Ch                                                 Ab  \\\n",
       "0       Sakizaya     撒奇萊雅             malalikid ku niyazu' i waluay a bulad.   \n",
       "1       Sakizaya     撒奇萊雅                kaudadan a demiad milalupela' kita.   \n",
       "2       Sakizaya     撒奇萊雅                 i buyubuyu'an ku aadupen a mauzip.   \n",
       "3       Sakizaya     撒奇萊雅                     u aam ku sakalanam tu sananal.   \n",
       "4       Sakizaya     撒奇萊雅                aamen nu miaamay ku tubah ni Bunga!   \n",
       "...          ...      ...                                                ...   \n",
       "137190    Atayal  泰雅_賽考利克  tuliq kmal qu yaba’ nya’ mha: “Temu’! nyux mak...   \n",
       "137191    Atayal  泰雅_賽考利克         pyang maku’ mha qaniy gi klpngan su’ iyal,   \n",
       "137192    Atayal  泰雅_賽考利克       teta’ ini’ kngungu’ qu laqi’ ta’ mha saku’.”   \n",
       "137193    Atayal  泰雅_賽考利克             ke’ kasa lga, mskyut qu yaba’ nya’ la.   \n",
       "137194    Atayal  泰雅_賽考利克  aring squ wal nya’ btaqan qu yaba’ nya’ lmga, ...   \n",
       "\n",
       "                                        Ch     From  \n",
       "0                              八月份是部落的豐年祭。       詞典  \n",
       "1                          下雨天我們一起去撿天使的眼淚。       詞典  \n",
       "2                                 動物生存在山裡。       詞典  \n",
       "3                                 早餐吃的是稀飯。       詞典  \n",
       "4                           乞丐去向Bunga乞討地瓜！       詞典  \n",
       "...                                    ...      ...  \n",
       "137190     他的父親哀痛對膽小的兒子說：「帖姆！我這樣把自己的軀體給了你，  傳說故事精選篇  \n",
       "137191                           我是故意這樣做的，  傳說故事精選篇  \n",
       "137192            目的是希望你不要太膽小了，從此成為人中的男人」。  傳說故事精選篇  \n",
       "137193                        沒多久父親就與世長辭了。  傳說故事精選篇  \n",
       "137194  自從膽小的帖姆誤殺了自己的父親以後，據說帖姆枇萊變為勇敢膽大的人了。  傳說故事精選篇  \n",
       "\n",
       "[137195 rows x 5 columns]"
      ]
     },
     "execution_count": 86,
     "metadata": {},
     "output_type": "execute_result"
    }
   ],
   "source": [
    "df = pd.read_pickle('./Formosan-Mandarin_sent_pairs_20220106.pkl', compression=\"gzip\")\n",
    "df"
   ]
  },
  {
   "cell_type": "code",
   "execution_count": null,
   "id": "1876bcea",
   "metadata": {},
   "outputs": [],
   "source": []
  }
 ],
 "metadata": {
  "kernelspec": {
   "display_name": "Python 3 (ipykernel)",
   "language": "python",
   "name": "python3"
  },
  "language_info": {
   "codemirror_mode": {
    "name": "ipython",
    "version": 3
   },
   "file_extension": ".py",
   "mimetype": "text/x-python",
   "name": "python",
   "nbconvert_exporter": "python",
   "pygments_lexer": "ipython3",
   "version": "3.9.7"
  }
 },
 "nbformat": 4,
 "nbformat_minor": 5
}
